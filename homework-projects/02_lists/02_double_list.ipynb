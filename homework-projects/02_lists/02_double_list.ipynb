{
  "nbformat": 4,
  "nbformat_minor": 0,
  "metadata": {
    "colab": {
      "provenance": [],
      "authorship_tag": "ABX9TyNMA1j5qYX163EWBx51mY4A",
      "include_colab_link": true
    },
    "kernelspec": {
      "name": "python3",
      "display_name": "Python 3"
    },
    "language_info": {
      "name": "python"
    }
  },
  "cells": [
    {
      "cell_type": "markdown",
      "metadata": {
        "id": "view-in-github",
        "colab_type": "text"
      },
      "source": [
        "<a href=\"https://colab.research.google.com/github/Muhammadtriiki/homework-repo/blob/main/homework-projects/02_lists/02_double_list.ipynb\" target=\"_parent\"><img src=\"https://colab.research.google.com/assets/colab-badge.svg\" alt=\"Open In Colab\"/></a>"
      ]
    },
    {
      "cell_type": "markdown",
      "source": [
        "Write a program that doubles each element in a list of numbers. For example, if you start with this list:\n",
        "\n",
        "numbers = [1, 2, 3, 4]\n",
        "\n",
        "You should end with this list:\n",
        "\n",
        "numbers = [2, 4, 6, 8]"
      ],
      "metadata": {
        "id": "mJNLpm1wAJN-"
      }
    },
    {
      "cell_type": "code",
      "execution_count": 2,
      "metadata": {
        "colab": {
          "base_uri": "https://localhost:8080/"
        },
        "id": "l4gg51dk_qfu",
        "outputId": "84f0d66f-bed7-427f-9a7b-a2f4be0de081"
      },
      "outputs": [
        {
          "output_type": "stream",
          "name": "stdout",
          "text": [
            "Enter a list of numbers separated by spaces: 1 2 3 1 2 4 23 42 123\n",
            "[2, 4, 6, 2, 4, 8, 46, 84, 246]\n"
          ]
        }
      ],
      "source": [
        "def double_list(numbers):\n",
        "    for i in range(len(numbers)):\n",
        "        numbers[i] *= 2\n",
        "    return numbers\n",
        "\n",
        "def main():\n",
        "    numbers = []\n",
        "    input_numbers = input(\"Enter a list of numbers separated by spaces: \")\n",
        "    for number in input_numbers.split():\n",
        "        numbers.append(int(number))\n",
        "    print(double_list(numbers))\n",
        "\n",
        "if __name__ == \"__main__\":\n",
        "    main()"
      ]
    }
  ]
}