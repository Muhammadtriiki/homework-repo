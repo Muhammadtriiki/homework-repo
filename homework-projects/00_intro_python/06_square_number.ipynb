{
  "nbformat": 4,
  "nbformat_minor": 0,
  "metadata": {
    "colab": {
      "provenance": [],
      "authorship_tag": "ABX9TyOV8w6udplUtRlWv7tqxLct",
      "include_colab_link": true
    },
    "kernelspec": {
      "name": "python3",
      "display_name": "Python 3"
    },
    "language_info": {
      "name": "python"
    }
  },
  "cells": [
    {
      "cell_type": "markdown",
      "metadata": {
        "id": "view-in-github",
        "colab_type": "text"
      },
      "source": [
        "<a href=\"https://colab.research.google.com/github/Muhammadtriiki/homework-repo/blob/main/homework-projects/00_intro_python/06_square_number.ipynb\" target=\"_parent\"><img src=\"https://colab.research.google.com/assets/colab-badge.svg\" alt=\"Open In Colab\"/></a>"
      ]
    },
    {
      "cell_type": "markdown",
      "source": [
        "Ask the user for a number and print its square (the product of the number times itself).\n",
        "\n",
        "Here's a sample run of the program (user input is in bold italics):\n",
        "\n",
        "Type a number to see its square: 4\n",
        "\n",
        "4.0 squared is 16.0"
      ],
      "metadata": {
        "id": "d_VB6yTmFO6X"
      }
    },
    {
      "cell_type": "code",
      "source": [
        "user_number = float(input(\"Type a number to see its square: \"))\n",
        "print(f\"{user_number} squared is {user_number ** 2}\")"
      ],
      "metadata": {
        "id": "n5R62G6gFPNy"
      },
      "execution_count": null,
      "outputs": []
    }
  ]
}