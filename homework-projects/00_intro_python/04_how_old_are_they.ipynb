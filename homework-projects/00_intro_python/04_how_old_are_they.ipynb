{
  "nbformat": 4,
  "nbformat_minor": 0,
  "metadata": {
    "colab": {
      "provenance": [],
      "authorship_tag": "ABX9TyNQDjAVKoD3KL21dt7GgfZF",
      "include_colab_link": true
    },
    "kernelspec": {
      "name": "python3",
      "display_name": "Python 3"
    },
    "language_info": {
      "name": "python"
    }
  },
  "cells": [
    {
      "cell_type": "markdown",
      "metadata": {
        "id": "view-in-github",
        "colab_type": "text"
      },
      "source": [
        "<a href=\"https://colab.research.google.com/github/Muhammadtriiki/homework-repo/blob/main/homework-projects/00_intro_python/04_how_old_are_they.ipynb\" target=\"_parent\"><img src=\"https://colab.research.google.com/assets/colab-badge.svg\" alt=\"Open In Colab\"/></a>"
      ]
    },
    {
      "cell_type": "markdown",
      "source": [
        "Write a program to solve this age-related riddle!\n",
        "\n",
        "Anton, Beth, Chen, Drew, and Ethan are all friends. Their ages are as follows:\n",
        "\n",
        "Anton is 21 years old.\n",
        "\n",
        "Beth is 6 years older than Anton.\n",
        "\n",
        "Chen is 20 years older than Beth.\n",
        "\n",
        "Drew is as old as Chen's age plus Anton's age.\n",
        "\n",
        "Ethan is the same age as Chen.\n",
        "\n",
        "Your code should store each person's age to a variable and print their names and ages at the end. The autograder is sensitive to capitalization and punctuation, be careful! Your solution should look like this (the below numbers are made up -- your solution should have the correct values!):"
      ],
      "metadata": {
        "id": "c23wx03eC5tn"
      }
    },
    {
      "cell_type": "code",
      "source": [
        "Anton_age = 21\n",
        "Beth_age = Anton_age + 6\n",
        "Chen_age = Beth_age + 20\n",
        "Drew_age = Chen_age + Anton_age\n",
        "Ethan_age = Chen_age\n",
        "print(f\"Anton is {Anton_age}\")\n",
        "print(f\"Beth is {Beth_age}\")\n",
        "print(f\"Chen is {Chen_age}\")\n",
        "print(f\"Drew is {Drew_age}\")\n",
        "print(f\"Ethan is {Ethan_age}\")"
      ],
      "metadata": {
        "colab": {
          "base_uri": "https://localhost:8080/"
        },
        "id": "k4EgIPISC5-e",
        "outputId": "5c90371d-d1f7-4126-c33c-305c70e475bb"
      },
      "execution_count": 11,
      "outputs": [
        {
          "output_type": "stream",
          "name": "stdout",
          "text": [
            "Anton is 21\n",
            "Beth is 27\n",
            "Chen is 47\n",
            "Drew is 68\n",
            "Ethan is 47\n"
          ]
        }
      ]
    }
  ]
}