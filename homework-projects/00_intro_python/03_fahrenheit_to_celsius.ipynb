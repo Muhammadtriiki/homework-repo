{
  "nbformat": 4,
  "nbformat_minor": 0,
  "metadata": {
    "colab": {
      "provenance": [],
      "authorship_tag": "ABX9TyOwdJgORYLTC7N+kjLyf3cQ",
      "include_colab_link": true
    },
    "kernelspec": {
      "name": "python3",
      "display_name": "Python 3"
    },
    "language_info": {
      "name": "python"
    }
  },
  "cells": [
    {
      "cell_type": "markdown",
      "metadata": {
        "id": "view-in-github",
        "colab_type": "text"
      },
      "source": [
        "<a href=\"https://colab.research.google.com/github/Muhammadtriiki/homework-repo/blob/main/homework-projects/00_intro_python/03_fahrenheit_to_celsius.ipynb\" target=\"_parent\"><img src=\"https://colab.research.google.com/assets/colab-badge.svg\" alt=\"Open In Colab\"/></a>"
      ]
    },
    {
      "cell_type": "markdown",
      "source": [
        "Write a program which prompts the user for a temperature in Fahrenheit (this can be a number with decimal places!) and outputs the temperature converted to Celsius.\n",
        "\n",
        "The Celsius scale is widely used to measure temperature, but places still use Fahrenheit. Fahrenheit is another unit for temperature, but the scale is different from Celsius -- for example, 0 degrees Celsius is 32 degrees Fahrenheit!\n",
        "\n",
        "The equation you should use for converting from Fahrenheit to Celsius is the following:\n",
        "\n",
        "degrees_celsius = (degrees_fahrenheit - 32) * 5.0/9.0"
      ],
      "metadata": {
        "id": "WnC1e9m6BmLK"
      }
    },
    {
      "cell_type": "code",
      "source": [
        "def calculation(degrees, conversion_type):\n",
        "    if conversion_type == \"fahrenheit\":\n",
        "        degrees_celsius = (degrees - 32) * 5.0 / 9.0\n",
        "        return degrees_celsius\n",
        "    elif conversion_type == \"celsius\":\n",
        "        degrees_fahrenheit = (degrees * 9.0 / 5.0) + 32\n",
        "        return degrees_fahrenheit\n",
        "    else:\n",
        "        return \"incorrect measurement\"\n",
        "\n",
        "\n",
        "choice = input(\"which degree you want to convert to fahrenheit or celsiu ? \")\n",
        "\n",
        "if choice.lower() == \"fahrenheit\":\n",
        "    try:\n",
        "        degrees_fahrenheit = float(input(\"input fahrenheit degree to convert it into Celsius: \"))\n",
        "        result = calculation(degrees_fahrenheit, \"fahrenheit\")\n",
        "        print(f\" Tempreture:{degrees_fahrenheit}F = {result}C\")\n",
        "    except ValueError:\n",
        "        print(\"invalid input. Please enter a number.\")\n",
        "elif choice.lower() == \"celsius\":\n",
        "    try:\n",
        "        degrees_celsius = float(input(\"input celsius degree to convert it into Fahrenheit: \"))\n",
        "        result = calculation(degrees_celsius, \"celsius\")\n",
        "        print(f\" Tempreture: {degrees_celsius}C = {result}F\")\n",
        "    except ValueError:\n",
        "        print(\"invalid input. please enter a number.\")\n",
        "else:\n",
        "    print(\"incorrect measurement\")"
      ],
      "metadata": {
        "id": "AjxFGWgJBmUw"
      },
      "execution_count": null,
      "outputs": []
    }
  ]
}