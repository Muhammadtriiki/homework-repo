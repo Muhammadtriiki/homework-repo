{
  "nbformat": 4,
  "nbformat_minor": 0,
  "metadata": {
    "colab": {
      "provenance": [],
      "authorship_tag": "ABX9TyNBpiBRV2XQwysVcClPF08i",
      "include_colab_link": true
    },
    "kernelspec": {
      "name": "python3",
      "display_name": "Python 3"
    },
    "language_info": {
      "name": "python"
    }
  },
  "cells": [
    {
      "cell_type": "markdown",
      "metadata": {
        "id": "view-in-github",
        "colab_type": "text"
      },
      "source": [
        "<a href=\"https://colab.research.google.com/github/Muhammadtriiki/homework-repo/blob/main/homework-projects/00_intro_python/05_triangle_perimeter.ipynb\" target=\"_parent\"><img src=\"https://colab.research.google.com/assets/colab-badge.svg\" alt=\"Open In Colab\"/></a>"
      ]
    },
    {
      "cell_type": "markdown",
      "source": [
        "Prompt the user to enter the lengths of each side of a triangle and then calculate and print the perimeter of the triangle (the sum of all of the side lengths).\n",
        "\n",
        "Here's a sample run of the program (user input is in bold italics):\n",
        "\n",
        "What is the length of side 1? 3\n",
        "\n",
        "What is the length of side 2? 4\n",
        "\n",
        "What is the length of side 3? 5.5\n",
        "\n",
        "The perimeter of the triangle is 12.5"
      ],
      "metadata": {
        "id": "c23wx03eC5tn"
      }
    },
    {
      "cell_type": "code",
      "source": [
        "side_1 = float(input(\"What is the length of side 1? \"))\n",
        "side_2 = float(input(\"What is the length of side 2? \"))\n",
        "side_3 = float(input(\"What is the length of side 3? \"))\n",
        "perimeter = side_1 + side_2 + side_3\n",
        "print(\"The perimeter of the triangle is\", perimeter)"
      ],
      "metadata": {
        "id": "k4EgIPISC5-e"
      },
      "execution_count": null,
      "outputs": []
    }
  ]
}