{
  "nbformat": 4,
  "nbformat_minor": 0,
  "metadata": {
    "colab": {
      "provenance": [],
      "authorship_tag": "ABX9TyMbqCzRgNIYv1QK2nt4MvGq",
      "include_colab_link": true
    },
    "kernelspec": {
      "name": "python3",
      "display_name": "Python 3"
    },
    "language_info": {
      "name": "python"
    }
  },
  "cells": [
    {
      "cell_type": "markdown",
      "metadata": {
        "id": "view-in-github",
        "colab_type": "text"
      },
      "source": [
        "<a href=\"https://colab.research.google.com/github/Muhammadtriiki/homework-repo/blob/main/homework-projects/00_intro_python/02_agreement_bot.ipynb\" target=\"_parent\"><img src=\"https://colab.research.google.com/assets/colab-badge.svg\" alt=\"Open In Colab\"/></a>"
      ]
    },
    {
      "cell_type": "markdown",
      "source": [
        "Write a program which asks the user what their favorite animal is, and then always responds with \"My favorite animal is also ___!\" (the blank should be filled in with the user-inputted animal, of course).\n",
        "\n",
        "Here's a sample run of the program (user input is in bold italics - note the space between the prompt and the user input!):\n",
        "\n",
        "What's your favorite animal? cow\n",
        "\n",
        "My favorite animal is also cow!"
      ],
      "metadata": {
        "id": "xumXGTEbCPoY"
      }
    },
    {
      "cell_type": "code",
      "source": [
        "print(\"hello\")\n",
        "favorite_animal = input(\"Whats your favorite animal ? \" )\n",
        "print(f\"My favorite animal is also {favorite_animal} !\")"
      ],
      "metadata": {
        "id": "NeTMdlMfCPxc"
      },
      "execution_count": null,
      "outputs": []
    }
  ]
}