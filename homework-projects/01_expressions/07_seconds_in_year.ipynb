{
  "nbformat": 4,
  "nbformat_minor": 0,
  "metadata": {
    "colab": {
      "provenance": [],
      "authorship_tag": "ABX9TyP6xe8iBCgheMLMNBeUEusE",
      "include_colab_link": true
    },
    "kernelspec": {
      "name": "python3",
      "display_name": "Python 3"
    },
    "language_info": {
      "name": "python"
    }
  },
  "cells": [
    {
      "cell_type": "markdown",
      "metadata": {
        "id": "view-in-github",
        "colab_type": "text"
      },
      "source": [
        "<a href=\"https://colab.research.google.com/github/Muhammadtriiki/homework-repo/blob/main/homework-projects/01_expressions/07_seconds_in_year.ipynb\" target=\"_parent\"><img src=\"https://colab.research.google.com/assets/colab-badge.svg\" alt=\"Open In Colab\"/></a>"
      ]
    },
    {
      "cell_type": "markdown",
      "source": [
        "Use Python to calculate the number of seconds in a year, and tell the user what the result is in a nice print statement that looks like this (of course the value 5 should be the calculated number instead):\n",
        "\n",
        "There are 5 seconds in a year!\n",
        "\n",
        "You should use constants for this exercise -- there are 365 days in a year, 24 hours in a day, 60 minutes in an hour, and 60 seconds per minute."
      ],
      "metadata": {
        "id": "rI8TGgrUoqHu"
      }
    },
    {
      "cell_type": "code",
      "source": [
        "days = 365\n",
        "hours = 24\n",
        "minutes = 60\n",
        "seconds = 60\n",
        "print(f\"There are {days * hours * minutes * seconds} seconds in a year!\")"
      ],
      "metadata": {
        "id": "PyEth70_oqnk"
      },
      "execution_count": null,
      "outputs": []
    }
  ]
}