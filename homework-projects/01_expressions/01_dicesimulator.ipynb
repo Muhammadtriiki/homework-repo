{
  "nbformat": 4,
  "nbformat_minor": 0,
  "metadata": {
    "colab": {
      "provenance": [],
      "authorship_tag": "ABX9TyNkiLVrJKDbcYAKsPj1d0DW",
      "include_colab_link": true
    },
    "kernelspec": {
      "name": "python3",
      "display_name": "Python 3"
    },
    "language_info": {
      "name": "python"
    }
  },
  "cells": [
    {
      "cell_type": "markdown",
      "metadata": {
        "id": "view-in-github",
        "colab_type": "text"
      },
      "source": [
        "<a href=\"https://colab.research.google.com/github/Muhammadtriiki/homework-repo/blob/main/homework-projects/01_expressions/01_dicesimulator.ipynb\" target=\"_parent\"><img src=\"https://colab.research.google.com/assets/colab-badge.svg\" alt=\"Open In Colab\"/></a>"
      ]
    },
    {
      "cell_type": "markdown",
      "source": [
        "Simulate rolling two dice, three times. Prints the results of each die roll. This program is used to show how variable scope works"
      ],
      "metadata": {
        "id": "LbfrurLXGbp2"
      }
    },
    {
      "cell_type": "code",
      "source": [
        "import random\n",
        "\n",
        "dice_1 = 6\n",
        "dice_2 = 6\n",
        "\n",
        "for i in range(3):\n",
        "    print(f\"The value of first dice is {random.randint(1, dice_1)}\")\n",
        "    print(f\"The value of second dice is {random.randint(1, dice_2)}\")"
      ],
      "metadata": {
        "id": "YzcEtEGHGcqi"
      },
      "execution_count": null,
      "outputs": []
    }
  ]
}