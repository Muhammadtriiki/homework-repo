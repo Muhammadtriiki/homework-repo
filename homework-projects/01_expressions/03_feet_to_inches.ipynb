{
  "nbformat": 4,
  "nbformat_minor": 0,
  "metadata": {
    "colab": {
      "provenance": [],
      "authorship_tag": "ABX9TyORXNYLExnxjzklChNseLaq",
      "include_colab_link": true
    },
    "kernelspec": {
      "name": "python3",
      "display_name": "Python 3"
    },
    "language_info": {
      "name": "python"
    }
  },
  "cells": [
    {
      "cell_type": "markdown",
      "metadata": {
        "id": "view-in-github",
        "colab_type": "text"
      },
      "source": [
        "<a href=\"https://colab.research.google.com/github/Muhammadtriiki/homework-repo/blob/main/homework-projects/01_expressions/03_feet_to_inches.ipynb\" target=\"_parent\"><img src=\"https://colab.research.google.com/assets/colab-badge.svg\" alt=\"Open In Colab\"/></a>"
      ]
    },
    {
      "cell_type": "markdown",
      "source": [
        "Converts feet to inches. Feet is an American unit of measurement. There are 12 inches per foot. Foot is the singular, and feet is the plural."
      ],
      "metadata": {
        "id": "YeLf30iCXQMY"
      }
    },
    {
      "cell_type": "code",
      "source": [
        "feet_to_calculate = float(input(\"How many feet do you want to convert to inches? \"))\n",
        "inches = (feet_to_calculate) * 12\n",
        "print(f\"{feet_to_calculate} foot/feet is {inches} inches\")"
      ],
      "metadata": {
        "id": "OLr4G527XQer"
      },
      "execution_count": null,
      "outputs": []
    }
  ]
}