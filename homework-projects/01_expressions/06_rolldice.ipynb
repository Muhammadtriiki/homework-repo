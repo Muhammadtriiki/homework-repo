{
  "nbformat": 4,
  "nbformat_minor": 0,
  "metadata": {
    "colab": {
      "provenance": [],
      "authorship_tag": "ABX9TyMBSME3NGAefv5FC/RlZUa0",
      "include_colab_link": true
    },
    "kernelspec": {
      "name": "python3",
      "display_name": "Python 3"
    },
    "language_info": {
      "name": "python"
    }
  },
  "cells": [
    {
      "cell_type": "markdown",
      "metadata": {
        "id": "view-in-github",
        "colab_type": "text"
      },
      "source": [
        "<a href=\"https://colab.research.google.com/github/Muhammadtriiki/homework-repo/blob/main/homework-projects/01_expressions/06_rolldice.ipynb\" target=\"_parent\"><img src=\"https://colab.research.google.com/assets/colab-badge.svg\" alt=\"Open In Colab\"/></a>"
      ]
    },
    {
      "cell_type": "markdown",
      "source": [
        "Simulate rolling two dice, and prints results of each roll as well as the total."
      ],
      "metadata": {
        "id": "rI8TGgrUoqHu"
      }
    },
    {
      "cell_type": "code",
      "source": [
        "import random\n",
        "\n",
        "\n",
        "dice1 = random.randint(1, 6)\n",
        "dice2 = random.randint(1, 6)\n",
        "print(f\"\"\"Rolling the dice...\n",
        "Dice 1: {dice1}\n",
        "Dice 2: {dice2}\n",
        "Total: {dice1 + dice2}\n",
        "\"\"\")"
      ],
      "metadata": {
        "id": "PyEth70_oqnk"
      },
      "execution_count": null,
      "outputs": []
    }
  ]
}