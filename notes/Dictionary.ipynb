{
  "cells": [
    {
      "cell_type": "markdown",
      "id": "022e08bc",
      "metadata": {
        "id": "022e08bc"
      },
      "source": [
        "# Introduction to Dictionaries in Python\n",
        "\n",
        "## What is a Dictionary?\n",
        "\n",
        "Dictionary, a data structure in Python, is a collection of *key-value pairs*, where each *key is unique*, and each key is associated with a specific value. Unlike other data structures in Python, like lists or sets, *dictionaries are unordered*, meaning that the items are not stored in any particular sequence.\n",
        "\n",
        "Dictionary enable the association of values with unique keys, providing a way to store and retrieve information using meaningful identifiers. Dictionaries are particularly valuable when there is a need for fast data access and retrieval based on specific keys. They are versatile and widely used in scenarios where data needs to be stored and accessed in a structured manner.\n",
        "\n",
        "## Why Do We Need Dictionaries?\n",
        "\n",
        "### The Problem: Efficient Data Lookups\n",
        "\n",
        "Consider a scenario where you are managing a collection of student scores in different subjects. Initially,  might think of using two separate lists. One for student names and one for their corresponding scores:\n",
        "\n",
        "\n",
        "\n"
      ]
    },
    {
      "cell_type": "code",
      "execution_count": null,
      "id": "d6b037a2",
      "metadata": {
        "id": "d6b037a2"
      },
      "outputs": [],
      "source": [
        "students : list[str ]= [\"Alice\", \"Bob\", \"Charlie\"]\n",
        "scores : list[int] = [85, 92, 78]"
      ]
    },
    {
      "cell_type": "markdown",
      "id": "9b1d5a90",
      "metadata": {
        "id": "9b1d5a90"
      },
      "source": [
        "\n",
        "To find the score of a specific student,  would need to first find the index of the student's name in the `students` list and then use that index to look up the score in the `scores` list:\n",
        "\n",
        "\n",
        "\n"
      ]
    },
    {
      "cell_type": "code",
      "execution_count": null,
      "id": "03ee09bd",
      "metadata": {
        "id": "03ee09bd"
      },
      "outputs": [],
      "source": [
        "index : int = students.index(\"Bob\")\n",
        "print(index)\n",
        "score : int = scores[index]\n",
        "print(score)"
      ]
    },
    {
      "cell_type": "markdown",
      "id": "93188425",
      "metadata": {
        "id": "93188425"
      },
      "source": [
        "While this approach works, it quickly becomes inefficient as the lists grow in size. Searching for a student's name in the list takes time, and managing two separate lists can lead to errors, especially if they become out of sync.\n",
        "\n",
        "### The Solution: Constant-Time Lookups with Dictionaries\n",
        "\n",
        "Dictionaries provide a more efficient and intuitive way to handle this situation. By using student names as keys and their scores as values,  can store the data in a dictionary:\n",
        "\n",
        "\n",
        "\n"
      ]
    },
    {
      "cell_type": "code",
      "execution_count": null,
      "id": "3bc21054",
      "metadata": {
        "id": "3bc21054"
      },
      "outputs": [],
      "source": [
        "students_scores : dict[str,int] = {\n",
        "    \"Alice\": 85,\n",
        "    \"Bob\": 92,\n",
        "    \"Charlie\": 78,\n",
        "    \"Alice\":75\n",
        "}"
      ]
    },
    {
      "cell_type": "markdown",
      "id": "6ee84445",
      "metadata": {
        "id": "6ee84445"
      },
      "source": [
        "\n",
        "Now, finding a student's score is much simpler and faster:\n",
        "\n",
        "\n"
      ]
    },
    {
      "cell_type": "code",
      "execution_count": null,
      "id": "e6f73536",
      "metadata": {
        "id": "e6f73536"
      },
      "outputs": [],
      "source": [
        "score : int = students_scores[\"Alice\"]\n",
        "print(score)"
      ]
    },
    {
      "cell_type": "code",
      "execution_count": null,
      "id": "0fbf0b36",
      "metadata": {
        "id": "0fbf0b36"
      },
      "outputs": [],
      "source": [
        "print(students_scores)"
      ]
    },
    {
      "cell_type": "markdown",
      "id": "842720da",
      "metadata": {
        "id": "842720da"
      },
      "source": [
        "This operation is performed in constant time, regardless of the number of students. Because of the direct indexing mechanism provided by the hash function\n",
        "\n",
        "## What Problems Do Dictionaries Solve?\n",
        "\n",
        "### 1. Fast Data Retrieval\n",
        "\n",
        "Dictionaries are optimized for fast data retrieval. Instead of searching through an entire list,  can quickly access any value directly by its key.\n",
        "\n",
        "### 2. Clearer, More Expressive Code\n",
        "\n",
        "Dictionaries allow us to write clearer and more expressive code. The key-value structure makes it obvious what each item represents, improving code readability.\n",
        "\n",
        "### 3. Flexibility in Data Organization\n",
        "\n",
        "Dictionaries offer flexibility in how  organize data can store complex structures, like lists or other dictionaries, as values, enabling us to represent nested or hierarchical data.\n",
        "\n",
        "## Working with Dictionaries in Python\n",
        "\n",
        "### Important Properties\n",
        "- Each key should be unique\n",
        "- Key can be any immutable type of object\n",
        "- `len()` function also works with dictionaries i.e. returns the length of key-value pairs\n",
        "- A dictionary is a one way tool i.e. We can find the value from key but cannot find the key from value. It works the same way as original dictionary.We can find urdu meaning of word in english but not the english meaning of urdu word.\n",
        "- The dictionaries are not ordered. We might have different orders when we use `print()` function. Dictionaries preserve the insertion order\n",
        "- Dictionaries are not a sequence type. So can we use for loop with dictionaries? No! and Yes! We'll see it in below examples.\n",
        "- Not sequential like list and tuple but iterable object.\n",
        "\n",
        "### Creating a Dictionary\n",
        "\n",
        " can create a dictionary using curly braces `{}` or the `dict()` function.\n",
        "\n",
        "\n"
      ]
    },
    {
      "cell_type": "code",
      "execution_count": null,
      "id": "eaa3eda7",
      "metadata": {
        "id": "eaa3eda7"
      },
      "outputs": [],
      "source": [
        "# Using curly braces\n",
        "students_scores : dict[str, int] = {\n",
        "    \"Bob\": 92,\n",
        "    \"Charlie\": 78,\n",
        "     \"Alice\": 85,\n",
        "}\n",
        "print(students_scores)"
      ]
    },
    {
      "cell_type": "code",
      "execution_count": null,
      "id": "8d3960cd",
      "metadata": {
        "id": "8d3960cd"
      },
      "outputs": [],
      "source": [
        "# Using dict() function\n",
        "students_scores : dict[str,int] = dict(Alice=80, Bob=90, Charlie=70)\n",
        "print(students_scores)"
      ]
    },
    {
      "cell_type": "markdown",
      "id": "0075710a",
      "metadata": {
        "id": "0075710a"
      },
      "source": [
        "## Accessing Values\n",
        "can access values in a dictionary using the key inside square brackets `[]` or with the `.get()` method.\n",
        "\n",
        "#### Example:\n",
        "\n"
      ]
    },
    {
      "cell_type": "code",
      "execution_count": null,
      "id": "cf0f5768",
      "metadata": {
        "id": "cf0f5768"
      },
      "outputs": [],
      "source": [
        "# Accessing a value using a key\n",
        "print(students_scores[\"Alice\"])  # Output: 85\n",
        "\n",
        "# Using the get() method\n",
        "print(students_scores.get(\"Bob\"))  # Output: 92"
      ]
    },
    {
      "cell_type": "markdown",
      "id": "0ed6aef5",
      "metadata": {
        "id": "0ed6aef5"
      },
      "source": [
        "#### Handling Missing Keys\n",
        "The `.get()` method is safer for accessing keys, as it returns `None` or a default value if the key is not found, rather than raising a `KeyError`.\n",
        "\n",
        "#### Example:\n",
        "\n"
      ]
    },
    {
      "cell_type": "code",
      "execution_count": null,
      "id": "9c157973",
      "metadata": {
        "id": "9c157973"
      },
      "outputs": [],
      "source": [
        "# Using square brackets (raises KeyError if key is not found)\n",
        "# print(student_scores[\"David\"])  # Uncommenting this line would raise KeyError\n",
        "\n",
        "# Using get() (returns None if key is not found)\n",
        "print(students_scores.get(\"David\"))  # Output: None\n",
        "\n",
        "# Providing a default value with get()\n",
        "print(students_scores.get(\"David\", \"Not Found\"))  # Output: Not Found"
      ]
    },
    {
      "cell_type": "markdown",
      "id": "c39a1e7c",
      "metadata": {
        "id": "c39a1e7c"
      },
      "source": [
        "# Adding and Updating Items\n",
        "\n",
        " can add a new key-value pair or update an existing one using square brackets `[]`.\n",
        "\n",
        "#### Example:\n",
        "\n"
      ]
    },
    {
      "cell_type": "code",
      "execution_count": null,
      "id": "7b60ad0c",
      "metadata": {
        "id": "7b60ad0c"
      },
      "outputs": [],
      "source": [
        "# Adding a new key-value pair\n",
        "students_scores[\"David\"] = 88\n",
        "print(students_scores)\n",
        "\n",
        "# Updating an existing key-value pair\n",
        "students_scores[\"Alice\"] = 99\n",
        "print(students_scores)\n"
      ]
    },
    {
      "cell_type": "markdown",
      "id": "21c3992b",
      "metadata": {
        "id": "21c3992b"
      },
      "source": [
        "## Removing Items\n",
        "\n",
        " can remove items using the `del` statement, the `.pop()` method, or the `.popitem()` method.\n",
        "\n",
        "#### Example:\n",
        "\n"
      ]
    },
    {
      "cell_type": "code",
      "execution_count": null,
      "id": "e9d128b4",
      "metadata": {
        "id": "e9d128b4"
      },
      "outputs": [],
      "source": [
        "# Removing a specific key-value pair using del\n",
        "del students_scores[\"Charlie\"]\n",
        "print(students_scores)"
      ]
    },
    {
      "cell_type": "code",
      "execution_count": null,
      "id": "0a096d1d",
      "metadata": {
        "id": "0a096d1d"
      },
      "outputs": [],
      "source": [
        "# Removing a specific key-value pair using pop()\n",
        "removed_score = students_scores.pop(\"David\") # removed_score contains only value\n",
        "print(removed_score)\n",
        "print(students_scores)"
      ]
    },
    {
      "cell_type": "code",
      "execution_count": null,
      "id": "f3e78f0c",
      "metadata": {
        "id": "f3e78f0c"
      },
      "outputs": [],
      "source": [
        "# Removing the last inserted key-value pair using popitem()\n",
        "last_item = students_scores.popitem() # last_item contains key-value and convert to tuple\n",
        "print(last_item)\n",
        "print(students_scores)\n"
      ]
    },
    {
      "cell_type": "markdown",
      "id": "1fbeada8",
      "metadata": {
        "id": "1fbeada8"
      },
      "source": [
        "## Checking if a Key Exists\n",
        "\n",
        " can check if a key exists in a dictionary using the `in` keyword.\n",
        "\n",
        "#### Example:\n",
        "\n"
      ]
    },
    {
      "cell_type": "code",
      "execution_count": null,
      "id": "905e45cf",
      "metadata": {
        "id": "905e45cf"
      },
      "outputs": [],
      "source": [
        "print(\"Alice\" in students_scores)\n",
        "print(\"Charlie\" in students_scores)\n"
      ]
    },
    {
      "cell_type": "markdown",
      "id": "f583a5ba",
      "metadata": {
        "id": "f583a5ba"
      },
      "source": [
        "## Iterating Through a Dictionary\n",
        "\n",
        "We can iterate through the keys, values, or key-value pairs in a dictionary using a `for` loop.\n",
        "\n",
        "\n",
        "### Example:\n",
        "\n"
      ]
    },
    {
      "cell_type": "code",
      "execution_count": null,
      "id": "ab0e4231",
      "metadata": {
        "id": "ab0e4231"
      },
      "outputs": [],
      "source": [
        "students_scores : dict[str,int] = {\n",
        "    \"Alice\": 85,\n",
        "    \"Bob\": 92,\n",
        "    \"Charlie\": 78\n",
        "}"
      ]
    },
    {
      "cell_type": "code",
      "execution_count": null,
      "id": "f35deed4",
      "metadata": {
        "id": "f35deed4"
      },
      "outputs": [],
      "source": [
        "# Iterating through keys\n",
        "for student in students_scores:\n",
        "    print(student)"
      ]
    },
    {
      "cell_type": "code",
      "execution_count": null,
      "id": "11451e37",
      "metadata": {
        "id": "11451e37"
      },
      "outputs": [],
      "source": [
        "# Iterating through values\n",
        "for score in students_scores.values():\n",
        "    print(score)"
      ]
    },
    {
      "cell_type": "code",
      "execution_count": null,
      "id": "80594672",
      "metadata": {
        "id": "80594672"
      },
      "outputs": [],
      "source": [
        "# Iterating through key-value pairs\n",
        "for student, score in students_scores.items():\n",
        "    print(f\"{student}: {score}\")"
      ]
    },
    {
      "cell_type": "code",
      "source": [
        "# [i for i in dir(students_scores) if \"__\" not in i]"
      ],
      "metadata": {
        "id": "rcLzSDq2QdlQ"
      },
      "id": "rcLzSDq2QdlQ",
      "execution_count": null,
      "outputs": []
    },
    {
      "cell_type": "markdown",
      "id": "fd30457d",
      "metadata": {
        "id": "fd30457d"
      },
      "source": [
        "## Dictionary Methods\n",
        "\n",
        "#### 1. `.keys()` Method\n",
        "Returns a view object that displays a list of all the keys in the dictionary.\n",
        "\n",
        "*Example:*\n",
        "\n",
        "\n"
      ]
    },
    {
      "cell_type": "code",
      "execution_count": null,
      "id": "779d3d87",
      "metadata": {
        "id": "779d3d87"
      },
      "outputs": [],
      "source": [
        "keys = students_scores.keys()\n",
        "print(keys)\n",
        "print(type(keys))"
      ]
    },
    {
      "cell_type": "markdown",
      "id": "ac78cc09",
      "metadata": {
        "id": "ac78cc09"
      },
      "source": [
        "#### 2. `.values()` Method\n",
        "Returns a view object that displays a list of all the values in the dictionary.\n",
        "\n",
        "*Example:*\n",
        "\n"
      ]
    },
    {
      "cell_type": "code",
      "execution_count": null,
      "id": "95ea4997",
      "metadata": {
        "id": "95ea4997"
      },
      "outputs": [],
      "source": [
        "values = students_scores.values()\n",
        "print(values)\n",
        "print(type(values))"
      ]
    },
    {
      "cell_type": "markdown",
      "id": "efc2eafe",
      "metadata": {
        "id": "efc2eafe"
      },
      "source": [
        "#### 3. `.items()` Method\n",
        "Returns a view object that displays a list of the dictionary’s key-value tuple pairs.\n",
        "\n",
        "*Example:*\n",
        "\n",
        "\n"
      ]
    },
    {
      "cell_type": "code",
      "execution_count": null,
      "id": "cc7a9cfb",
      "metadata": {
        "id": "cc7a9cfb"
      },
      "outputs": [],
      "source": [
        "items = students_scores.items()\n",
        "print(items)\n",
        "print(type(items))"
      ]
    },
    {
      "cell_type": "markdown",
      "id": "cc349569",
      "metadata": {
        "id": "cc349569"
      },
      "source": [
        "#### 4. `.update()` Method\n",
        "Updates the dictionary with elements from another dictionary or from an iterable of key-value pairs.\n",
        "\n",
        "*Example:*\n",
        "\n"
      ]
    },
    {
      "cell_type": "code",
      "execution_count": null,
      "id": "210e9cda",
      "metadata": {
        "id": "210e9cda"
      },
      "outputs": [],
      "source": [
        "additional_scores = {\"Eve\": 95, \"Frank\": 87}\n",
        "students_scores.update(additional_scores)\n",
        "print(students_scores)"
      ]
    },
    {
      "cell_type": "markdown",
      "id": "4ccf3fb4",
      "metadata": {
        "id": "4ccf3fb4"
      },
      "source": [
        "#### 5. `.clear()` Method\n",
        "Removes all items from the dictionary.\n",
        "\n",
        "*Example:*\n",
        "\n"
      ]
    },
    {
      "cell_type": "code",
      "execution_count": null,
      "id": "0e0e85b7",
      "metadata": {
        "id": "0e0e85b7"
      },
      "outputs": [],
      "source": [
        "students_scores.clear()\n",
        "print(students_scores)"
      ]
    },
    {
      "cell_type": "markdown",
      "id": "11a78e9b",
      "metadata": {
        "id": "11a78e9b"
      },
      "source": [
        "#### 5. `.copy()` Method\n",
        "\n"
      ]
    },
    {
      "cell_type": "code",
      "execution_count": null,
      "id": "49883869",
      "metadata": {
        "id": "49883869"
      },
      "outputs": [],
      "source": [
        "students_scores : dict[str,int] = {\n",
        "    \"Alice\": 85,\n",
        "    \"Bob\": 92,\n",
        "    \"Charlie\": 78\n",
        "}\n",
        "new = students_scores\n",
        "print(id(new))\n",
        "print(new)"
      ]
    },
    {
      "cell_type": "code",
      "execution_count": null,
      "id": "ec303d4e",
      "metadata": {
        "id": "ec303d4e"
      },
      "outputs": [],
      "source": [
        "students_scores_copy = students_scores.copy()\n",
        "print(students_scores_copy)"
      ]
    },
    {
      "cell_type": "code",
      "source": [
        "print(id(students_scores))\n",
        "print(id(students_scores_copy))"
      ],
      "metadata": {
        "id": "H7j3cHIqR1fN"
      },
      "id": "H7j3cHIqR1fN",
      "execution_count": null,
      "outputs": []
    },
    {
      "cell_type": "markdown",
      "id": "57b55704",
      "metadata": {
        "id": "57b55704"
      },
      "source": [
        "## Dictionary Comprehension\n",
        "We can also apply comprehension method on dictionaries.\n",
        "\n",
        "*Example:*\n",
        "\n"
      ]
    },
    {
      "cell_type": "code",
      "execution_count": null,
      "id": "b818c9e9",
      "metadata": {
        "id": "b818c9e9"
      },
      "outputs": [],
      "source": [
        "values : dict[int,int] = {x:x*2 for x in range(5)}\n",
        "print(values)"
      ]
    },
    {
      "cell_type": "markdown",
      "id": "5cc8137a",
      "metadata": {
        "id": "5cc8137a"
      },
      "source": [
        "*Example:*\n",
        "\n"
      ]
    },
    {
      "cell_type": "code",
      "execution_count": null,
      "id": "b425e12c",
      "metadata": {
        "id": "b425e12c"
      },
      "outputs": [],
      "source": [
        "# convert list into dictionary\n",
        "fruits : list[str] = [\"apple\", \"banana\", \"orange\"]\n",
        "fruits_dict : dict[int,str] = {i:fruit for i, fruit in enumerate(fruits)}\n",
        "print(fruits_dict)"
      ]
    },
    {
      "cell_type": "markdown",
      "id": "b655de0e",
      "metadata": {
        "id": "b655de0e"
      },
      "source": [
        "## Projects\n",
        "\n",
        "### Project 1: Student Gradebook\n",
        "\n",
        "#### **Write a program to :**\n",
        "- Create a dictionary to store student names as keys and their grades as values.\n",
        "- Allow the user to input new student-grade pairs and update existing entries.\n",
        "\n",
        "#### **Breakdown into step by step:**\n",
        "1. **Initialize an empty dictionary** to store student names (keys) and their grades (values).\n",
        "\n",
        "2. **Create a loop** to continuously allow the user to input data until they choose to stop.\n",
        "  - 1. Add or Update a student\n",
        "  - 2. View all students and grades\n",
        "  - 3. Exit\n",
        "\n",
        "3. **Prompt the user** to enter a student's name.\n",
        "\n",
        "4. **Check if the name is already in the dictionary:**\n",
        "   - **If it is**, then update the grade and update the dictionary.\n",
        "   - **If not**, then add the grade and update the dictionary.\n",
        "\n",
        "5. **Ask the user** if they want to add another student or update another grade.\n",
        "\n",
        "### Project 2: Employee Directory\n",
        "Build a program to:\n",
        "- Create a dictionary with employee IDs as keys and their names as values.\n",
        "- Add functionalities to search, add, and delete employees.\n",
        "\n"
      ]
    },
    {
      "cell_type": "code",
      "source": [
        "def dictionary(choice):\n",
        "   students_grades : dict[str,int] = {\"muhammad\":90, \"ahmed\":80}\n",
        "   if choice == 1:\n",
        "      name = input(\"Enter student name: \")\n",
        "      grade = int(input(\"Enter student grade: \"))\n",
        "      if name in students_grades:\n",
        "        choice = input(\"Do you want to update grade? (y/n): \")\n",
        "        if choice == \"y\":\n",
        "         students_grades[name] = grade\n",
        "        else:\n",
        "         print(\"Grade not updated\")\n",
        "      else:\n",
        "         students_grades[name] = grade\n",
        "      print(\"the students is been added along with its grade\")\n",
        "   elif choice == 2:\n",
        "      print(students_grades)\n",
        "   elif choice == 3:\n",
        "      return\n",
        "   else:\n",
        "      print(\"invalid choice\")\n",
        "\n",
        "def main():\n",
        "  print(\"hello to the school dictionary\")\n",
        "  while True:\n",
        "    print(\"1. Add or Update a student\")\n",
        "    print(\"2. View all students and grades\")\n",
        "    print(\"3. Exit\")\n",
        "    choice = int(input(\"Enter your choice: \"))\n",
        "    dictionary(choice)\n",
        "    if choice == 3:\n",
        "      print(\"thanks, have a good day\")\n",
        "      break\n",
        "\n",
        "\n",
        "if __name__ == \"__main__\":\n",
        " main()"
      ],
      "metadata": {
        "id": "t3PN8-O2QY0t"
      },
      "id": "t3PN8-O2QY0t",
      "execution_count": null,
      "outputs": []
    },
    {
      "cell_type": "code",
      "source": [
        "\n",
        "def dictionary(choice):\n",
        "    employee_id: dict[int, str] = {1: \"muhammad\", 2: \"ahmed\"}\n",
        "\n",
        "    if choice == 1:  # Add or update\n",
        "        id = int(input(\"Enter employee ID: \"))\n",
        "        name = input(\"Enter employee name: \")\n",
        "        if id in employee_id:\n",
        "            update = input(\"Do you want to update the name? (y/n): \")\n",
        "            if update == \"y\":\n",
        "                employee_id[id] = name\n",
        "                print(\"Name has been updated.\")\n",
        "            else:\n",
        "                print(\"Name not updated.\")\n",
        "        else:\n",
        "            employee_id[id] = name\n",
        "            print(\"The employee has been added along with their ID.\")\n",
        "\n",
        "    elif choice == 2:  # Search\n",
        "        id_or_name = input(\"Enter employee ID or employee name: \")\n",
        "        if id_or_name.isdigit():\n",
        "            id = int(id_or_name)\n",
        "            if id in employee_id:\n",
        "                print(f\"The employee is found: ID = {id}, Name = {employee_id[id]}\")\n",
        "            else:\n",
        "                print(\"The ID is not found.\")\n",
        "        else:\n",
        "            for i, t in employee_id.items():\n",
        "                if t == id_or_name:\n",
        "                    print(f\"The employee is found: ID = {i}, Name = {t}\")\n",
        "                    break\n",
        "            else:\n",
        "                print(\"The name is not found.\")\n",
        "\n",
        "    elif choice == 3:  # Delete\n",
        "        delet = input(\"Enter employee ID or employee name: \")\n",
        "        if delet.isdigit():\n",
        "            id = int(delet)\n",
        "            if id in employee_id:\n",
        "                del employee_id[id]\n",
        "                print(\"The employee has been deleted.\")\n",
        "            else:\n",
        "                print(\"The ID is not found.\")\n",
        "        else:\n",
        "            for i, t in list(employee_id.items()):\n",
        "                if t == delet:\n",
        "                    del employee_id[i]\n",
        "                    print(\"The employee has been deleted.\")\n",
        "                    break\n",
        "            else:\n",
        "                print(\"The name is not found.\")\n",
        "\n",
        "    elif choice == 4:  #exit\n",
        "        return\n",
        "\n",
        "def main():\n",
        "    print(\"Hello to the employee dictionary\")\n",
        "    while True:\n",
        "        print(\"\\n1. Add or Update an employee\")\n",
        "        print(\"2. Search for an employee\")\n",
        "        print(\"3. Delete an employee\")\n",
        "        print(\"4. Exit\")\n",
        "        choice = int(input(\"Enter your choice: \"))\n",
        "        if choice in {1, 2, 3, 4}:\n",
        "            dictionary(choice)\n",
        "        else:\n",
        "            print(\"Invalid choice. Please try again.\")\n",
        "\n",
        "if __name__ == \"__main__\":\n",
        "    main()\n"
      ],
      "metadata": {
        "id": "5lGVA7Y-Qazv"
      },
      "id": "5lGVA7Y-Qazv",
      "execution_count": null,
      "outputs": []
    }
  ],
  "metadata": {
    "colab": {
      "provenance": []
    },
    "language_info": {
      "name": "python"
    },
    "kernelspec": {
      "name": "python3",
      "display_name": "Python 3"
    }
  },
  "nbformat": 4,
  "nbformat_minor": 5
}